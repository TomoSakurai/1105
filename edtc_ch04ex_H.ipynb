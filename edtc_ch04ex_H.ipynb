{
 "metadata": {
  "name": "",
  "signature": "sha256:f71556d446cb32f998cd66a0f5355076d57e872c3721a0d462f1a071baeaa251"
 },
 "nbformat": 3,
 "nbformat_minor": 0,
 "worksheets": [
  {
   "cells": [
    {
     "cell_type": "code",
     "collapsed": false,
     "input": [
      "from __future__ import division\n",
      "import numpy as np\n",
      "import quantecon as qe"
     ],
     "language": "python",
     "metadata": {},
     "outputs": [],
     "prompt_number": 4
    },
    {
     "cell_type": "heading",
     "level": 1,
     "metadata": {},
     "source": [
      "Economic Dynamics, Chapter 4: Exercises"
     ]
    },
    {
     "cell_type": "markdown",
     "metadata": {},
     "source": [
      "Exercises using Hamilton's Markov chain:"
     ]
    },
    {
     "cell_type": "code",
     "collapsed": false,
     "input": [
      "P = [[0.971, 0.029, 0    ],\n",
      "     [0.145, 0.778, 0.077],\n",
      "     [0    , 0.508, 0.492]]\n",
      "mc_H = qe.MarkovChain(P)"
     ],
     "language": "python",
     "metadata": {},
     "outputs": [],
     "prompt_number": 5
    },
    {
     "cell_type": "code",
     "collapsed": false,
     "input": [
      "mc_H.P"
     ],
     "language": "python",
     "metadata": {},
     "outputs": [
      {
       "metadata": {},
       "output_type": "pyout",
       "prompt_number": 6,
       "text": [
        "array([[ 0.971,  0.029,  0.   ],\n",
        "       [ 0.145,  0.778,  0.077],\n",
        "       [ 0.   ,  0.508,  0.492]])"
       ]
      }
     ],
     "prompt_number": 6
    },
    {
     "cell_type": "code",
     "collapsed": false,
     "input": [
      "states = {'NG': 0, 'MR': 1, 'SR': 2}"
     ],
     "language": "python",
     "metadata": {},
     "outputs": [],
     "prompt_number": 7
    },
    {
     "cell_type": "heading",
     "level": 2,
     "metadata": {},
     "source": [
      "4.2 Finite State Markov Chains"
     ]
    },
    {
     "cell_type": "heading",
     "level": 3,
     "metadata": {},
     "source": [
      "4.2.2 Marginal Distributions"
     ]
    },
    {
     "cell_type": "heading",
     "level": 4,
     "metadata": {},
     "source": [
      "Exercise 4.2.3"
     ]
    },
    {
     "cell_type": "markdown",
     "metadata": {},
     "source": [
      "Let us use the following function from the previous exercise set:"
     ]
    },
    {
     "cell_type": "code",
     "collapsed": false,
     "input": [
      "def cross_sectional_dist(mc, init, T, num_reps=100):\n",
      "    \"\"\"\n",
      "    Return a distribution of visits at time T across num_reps sample paths\n",
      "    of mc with an initial state init.\n",
      "    \n",
      "    \"\"\"\n",
      "    x = np.empty(num_reps, dtype=int)\n",
      "    for i in range(num_reps):\n",
      "        x[i] = mc.simulate(init=init, sample_size=T+1)[-1]\n",
      "    bins = np.arange(mc.n+1)\n",
      "    hist, bin_edges = np.histogram(x, bins=bins)\n",
      "    dist = hist/len(x)\n",
      "    return dist"
     ],
     "language": "python",
     "metadata": {},
     "outputs": [],
     "prompt_number": 8
    },
    {
     "cell_type": "code",
     "collapsed": false,
     "input": [
      "psi = [0, 0, 1]\n",
      "psi_10 = cross_sectional_dist(mc_H, init=psi, T=10)\n",
      "print psi_10"
     ],
     "language": "python",
     "metadata": {},
     "outputs": [
      {
       "output_type": "stream",
       "stream": "stdout",
       "text": [
        "[ 0.56  0.38  0.06]\n"
       ]
      }
     ],
     "prompt_number": 9
    },
    {
     "cell_type": "code",
     "collapsed": false,
     "input": [
      "psi_10[states['NG']]"
     ],
     "language": "python",
     "metadata": {},
     "outputs": [
      {
       "metadata": {},
       "output_type": "pyout",
       "prompt_number": 10,
       "text": [
        "0.56000000000000005"
       ]
      }
     ],
     "prompt_number": 10
    },
    {
     "cell_type": "heading",
     "level": 3,
     "metadata": {},
     "source": [
      "4.2.3 Other Identities"
     ]
    },
    {
     "cell_type": "heading",
     "level": 4,
     "metadata": {},
     "source": [
      "Exercise 4.2.12"
     ]
    },
    {
     "cell_type": "code",
     "collapsed": false,
     "input": [
      "profits = [1000, 0, -1000]"
     ],
     "language": "python",
     "metadata": {},
     "outputs": [],
     "prompt_number": 11
    },
    {
     "cell_type": "code",
     "collapsed": false,
     "input": [
      "t = 5\n",
      "psi_NG = [1, 0, 0]\n",
      "x = psi_NG\n",
      "y = np.linalg.matrix_power(mc_H.P, t)\n",
      "z = np.dot(x, y)\n",
      "\n",
      "exp_profits_vec = np.dot(z, profits)\n",
      "print exp_profits_vec"
     ],
     "language": "python",
     "metadata": {},
     "outputs": [
      {
       "output_type": "stream",
       "stream": "stdout",
       "text": [
        "885.347632676\n"
       ]
      }
     ],
     "prompt_number": 12
    },
    {
     "cell_type": "code",
     "collapsed": false,
     "input": [
      "t = 5\n",
      "psi_SR = [0, 0, 1]\n",
      "x = psi_SR\n",
      "y = np.linalg.matrix_power(mc_H.P, t)\n",
      "z = np.dot(x, y)\n",
      "exp_profits_vec = np.dot(z, profits)\n",
      "print exp_profits_vec"
     ],
     "language": "python",
     "metadata": {},
     "outputs": [
      {
       "output_type": "stream",
       "stream": "stdout",
       "text": [
        "217.743048766\n"
       ]
      }
     ],
     "prompt_number": 13
    },
    {
     "cell_type": "heading",
     "level": 4,
     "metadata": {},
     "source": [
      "Exercise 4.2.13"
     ]
    },
    {
     "cell_type": "code",
     "collapsed": false,
     "input": [
      "t = 1000\n",
      "\n",
      "psi_NG = [1, 0, 0]\n",
      "x = psi_NG\n",
      "y = np.linalg.matrix_power(mc_H.P, t)\n",
      "z = np.dot(x, y)\n",
      "exp_profits_vec_NG = np.dot(z, profits)\n",
      "print exp_profits_vec_NG\n",
      "\n",
      "psi_MR = [0, 1, 0]\n",
      "x = psi_MR\n",
      "y = np.linalg.matrix_power(mc_H.P, t)\n",
      "z = np.dot(x, y)\n",
      "exp_profits_vec_MR = np.dot(z, profits)\n",
      "print exp_profits_vec_MR\n",
      "\n",
      "psi_SR = [0, 0, 1]\n",
      "x = psi_SR\n",
      "y = np.linalg.matrix_power(mc_H.P, t)\n",
      "z = np.dot(x, y)\n",
      "exp_profits_vec_SR = np.dot(z, profits)\n",
      "print exp_profits_vec_SR"
     ],
     "language": "python",
     "metadata": {},
     "outputs": [
      {
       "output_type": "stream",
       "stream": "stdout",
       "text": [
        "788.16\n",
        "788.16\n",
        "788.16\n"
       ]
      }
     ],
     "prompt_number": 14
    },
    {
     "cell_type": "heading",
     "level": 4,
     "metadata": {},
     "source": [
      "Exercise 4.2.14"
     ]
    },
    {
     "cell_type": "code",
     "collapsed": false,
     "input": [
      "t = 5\n",
      "\n",
      "psi_sto = [0.2, 0.2, 0.6]\n",
      "x = psi_sto\n",
      "y = np.linalg.matrix_power(mc_H.P, t)\n",
      "z = np.dot(x, y)\n",
      "exp_profits = np.dot(z, profits)\n",
      "print exp_profits"
     ],
     "language": "python",
     "metadata": {},
     "outputs": [
      {
       "output_type": "stream",
       "stream": "stdout",
       "text": [
        "385.451890538\n"
       ]
      }
     ],
     "prompt_number": 15
    },
    {
     "cell_type": "heading",
     "level": 3,
     "metadata": {},
     "source": [
      "4.2.4 Constructing Joint Distributions"
     ]
    },
    {
     "cell_type": "heading",
     "level": 4,
     "metadata": {},
     "source": [
      "Exercise 4.2.15"
     ]
    },
    {
     "cell_type": "code",
     "collapsed": false,
     "input": [
      "def path_prob(p, psi, X):\n",
      "    prob = psi[X[0]]\n",
      "    for t in range(len(X) - 1):\n",
      "        prob = prob * p[X[t]][X[t+1]]\n",
      "    return prob\n",
      "\n",
      "pH = ((0.971, 0.029, 0.000),\n",
      "      (0.145, 0.778, 0.077),\n",
      "      (0.000, 0.508, 0.492))\n",
      "X = (0, 1, 0)\n",
      "psi = (0.2, 0.2, 0.6)\n",
      "\n",
      "path_prob(pH, psi, X)"
     ],
     "language": "python",
     "metadata": {},
     "outputs": [
      {
       "metadata": {},
       "output_type": "pyout",
       "prompt_number": 16,
       "text": [
        "0.0008410000000000001"
       ]
      }
     ],
     "prompt_number": 16
    },
    {
     "cell_type": "heading",
     "level": 4,
     "metadata": {},
     "source": [
      "Exercise 4.2.16"
     ]
    },
    {
     "cell_type": "code",
     "collapsed": false,
     "input": [
      "def q_T(p, psi, X, T):\n",
      "    prob = psi[X[0]]\n",
      "    for t in range(T):\n",
      "        prob = prob * p[X[t]][X[t+1]]\n",
      "    return prob\n",
      "\n",
      "def path_prob(p, psi, X, T):\n",
      "    prob = q_T(p, psi, X, T-1) * p[X[T]][X[T+1]]\n",
      "    return prob\n",
      "\n",
      "X = (0, 0, 0, 0, 0, 0, 0)                        ## check \n",
      "T = 4\n",
      "path_prob(pH, psi, X, T)\n",
      "print path_prob(pH, psi, X, T)"
     ],
     "language": "python",
     "metadata": {},
     "outputs": [
      {
       "output_type": "stream",
       "stream": "stdout",
       "text": [
        "0.177789830256\n"
       ]
      }
     ],
     "prompt_number": 17
    },
    {
     "cell_type": "heading",
     "level": 4,
     "metadata": {},
     "source": [
      "Exercise 4.2.18"
     ]
    },
    {
     "cell_type": "code",
     "collapsed": false,
     "input": [
      "def path_prob(p, psi, X):\n",
      "    prob = psi[X[0]]\n",
      "    for t in range(len(X) - 1):\n",
      "        prob = prob * p[X[t]][X[t+1]]\n",
      "    return prob\n",
      "\n",
      "pH = ((0.971, 0.029, 0.000),\n",
      "      (0.145, 0.778, 0.077),\n",
      "      (0.000, 0.508, 0.492))\n",
      "psi = (0.2, 0.2, 0.6)\n",
      "\n",
      "X1 = [1, 1, 1]\n",
      "X2 = [1, 1, 2]\n",
      "X3 = [1, 2, 1]\n",
      "X4 = [1, 2, 2]\n",
      "X5 = [2, 1, 1]\n",
      "X6 = [2, 1, 2]\n",
      "X7 = [2, 2, 1]\n",
      "X8 = [2, 2, 2]\n",
      "\n",
      "\n",
      "pro1 = path_prob(pH, psi, X1)+path_prob(pH, psi, X2)\n",
      "pro2 = path_prob(pH, psi, X3)+path_prob(pH, psi, X4)\n",
      "pro3 = path_prob(pH, psi, X5)+path_prob(pH, psi, X6)\n",
      "pro4 = path_prob(pH, psi, X7)+path_prob(pH, psi, X8)\n",
      "pro = pro1+pro2+pro3+pro4\n",
      "print pro"
     ],
     "language": "python",
     "metadata": {},
     "outputs": [
      {
       "output_type": "stream",
       "stream": "stdout",
       "text": [
        "0.704242\n"
       ]
      }
     ],
     "prompt_number": 51
    },
    {
     "cell_type": "heading",
     "level": 4,
     "metadata": {},
     "source": [
      "Exercise 4.2.19"
     ]
    },
    {
     "cell_type": "code",
     "collapsed": false,
     "input": [
      "from quantecon.mc_tools import mc_sample_path"
     ],
     "language": "python",
     "metadata": {},
     "outputs": [],
     "prompt_number": 18
    },
    {
     "cell_type": "code",
     "collapsed": false,
     "input": [
      "count = 0\n",
      "\n",
      "for i in range(10000):\n",
      "    if all([state != 0 for state in mc_sample_path(mc_H.P, [0.2,0.2,0.6],3)]):\n",
      "        count = count + 1\n",
      "        \n",
      "print count/10000"
     ],
     "language": "python",
     "metadata": {},
     "outputs": [
      {
       "output_type": "stream",
       "stream": "stdout",
       "text": [
        "0.7047\n"
       ]
      }
     ],
     "prompt_number": 29
    },
    {
     "cell_type": "heading",
     "level": 4,
     "metadata": {},
     "source": [
      "Exercise 4.2.20"
     ]
    },
    {
     "cell_type": "code",
     "collapsed": false,
     "input": [
      "r = 0.05\n",
      "r_inv = 1/(1+r)\n",
      "\n",
      "psi = [0.2, 0.2, 0.6]\n",
      "x = psi\n",
      "y_1 = np.linalg.matrix_power(mc_H.P, 1)\n",
      "y_2 = np.linalg.matrix_power(mc_H.P, 2)\n",
      "z_1 = np.dot(x, y_1)\n",
      "z_2 = np.dot(x, y_1)\n",
      "exp_profits_0 = np.dot(x, profits)\n",
      "exp_profits_1 = np.dot(z_1, profits)\n",
      "exp_profits_2 = np.dot(z_2, profits)\n",
      "exp_profits = exp_profits_0 + r_inv * exp_profits_1 + r_inv * r_inv * exp_profits_2\n",
      "print exp_profits"
     ],
     "language": "python",
     "metadata": {},
     "outputs": [
      {
       "output_type": "stream",
       "stream": "stdout",
       "text": [
        "-562.512471655\n"
       ]
      }
     ],
     "prompt_number": 53
    },
    {
     "cell_type": "heading",
     "level": 4,
     "metadata": {},
     "source": [
      "Exercise 4.2.22"
     ]
    },
    {
     "cell_type": "code",
     "collapsed": false,
     "input": [],
     "language": "python",
     "metadata": {},
     "outputs": []
    },
    {
     "cell_type": "heading",
     "level": 4,
     "metadata": {},
     "source": [
      "Exercise 4.2.23"
     ]
    },
    {
     "cell_type": "code",
     "collapsed": false,
     "input": [],
     "language": "python",
     "metadata": {},
     "outputs": []
    },
    {
     "cell_type": "heading",
     "level": 2,
     "metadata": {},
     "source": [
      "4.3 Stability of Finite State MCs"
     ]
    },
    {
     "cell_type": "heading",
     "level": 3,
     "metadata": {},
     "source": [
      "4.3.1 Stationary Distributions"
     ]
    },
    {
     "cell_type": "heading",
     "level": 4,
     "metadata": {},
     "source": [
      "Exercise 4.3.9"
     ]
    },
    {
     "cell_type": "code",
     "collapsed": false,
     "input": [
      "from numpy import ones, identity, transpose\n",
      "from numpy.linalg import solve\n",
      "\n",
      "I = identity(3)\n",
      "Q, b = ones((3, 3)), ones((3, 1))\n",
      "A = transpose(I - pH + Q)\n",
      "z = solve(A, b)\n",
      "print z\n",
      "\n",
      "E = np.dot(profits, z)\n",
      "print E"
     ],
     "language": "python",
     "metadata": {},
     "outputs": [
      {
       "output_type": "stream",
       "stream": "stdout",
       "text": [
        "[[ 0.8128 ]\n",
        " [ 0.16256]\n",
        " [ 0.02464]]\n",
        "[ 788.16]\n"
       ]
      }
     ],
     "prompt_number": 52
    },
    {
     "cell_type": "heading",
     "level": 4,
     "metadata": {},
     "source": [
      "Exercise 4.3.10"
     ]
    },
    {
     "cell_type": "code",
     "collapsed": false,
     "input": [],
     "language": "python",
     "metadata": {},
     "outputs": []
    },
    {
     "cell_type": "heading",
     "level": 3,
     "metadata": {},
     "source": [
      "4.3.3 Stability"
     ]
    },
    {
     "cell_type": "heading",
     "level": 4,
     "metadata": {},
     "source": [
      "Exercise 4.3.27"
     ]
    },
    {
     "cell_type": "code",
     "collapsed": false,
     "input": [],
     "language": "python",
     "metadata": {},
     "outputs": []
    },
    {
     "cell_type": "heading",
     "level": 3,
     "metadata": {},
     "source": [
      "4.3.4 The Law of Large Numbers"
     ]
    },
    {
     "cell_type": "heading",
     "level": 4,
     "metadata": {},
     "source": [
      "Exercise 4.3.34"
     ]
    },
    {
     "cell_type": "code",
     "collapsed": false,
     "input": [],
     "language": "python",
     "metadata": {},
     "outputs": []
    },
    {
     "cell_type": "heading",
     "level": 4,
     "metadata": {},
     "source": [
      "Exercise 4.3.36"
     ]
    },
    {
     "cell_type": "code",
     "collapsed": false,
     "input": [],
     "language": "python",
     "metadata": {},
     "outputs": []
    }
   ],
   "metadata": {}
  }
 ]
}