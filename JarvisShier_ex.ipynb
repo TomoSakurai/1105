{
 "metadata": {
  "name": "",
  "signature": "sha256:cc5184e5bbdf798c2ccfec9292553e6104018ede8c47e857f02b000b07034c78"
 },
 "nbformat": 3,
 "nbformat_minor": 0,
 "worksheets": [
  {
   "cells": [
    {
     "cell_type": "heading",
     "level": 1,
     "metadata": {},
     "source": [
      "Exercises in Jarvis and Shier"
     ]
    },
    {
     "cell_type": "markdown",
     "metadata": {},
     "source": [
      "Reading:\n",
      "J. P. Jarvis and D. R. Shier, \"[Graph-Theoretic Analysis of Finite Markov Chain](http://www.ces.clemson.edu/~shierd/Shier/markov.pdf).\""
     ]
    },
    {
     "cell_type": "code",
     "collapsed": false,
     "input": [
      "from __future__ import division\n",
      "import numpy as np\n",
      "import quantecon as qe"
     ],
     "language": "python",
     "metadata": {},
     "outputs": [],
     "prompt_number": 7
    },
    {
     "cell_type": "markdown",
     "metadata": {},
     "source": [
      "Make sure that you have installed `quantecon` version 0.1.6 (or above):"
     ]
    },
    {
     "cell_type": "code",
     "collapsed": false,
     "input": [
      "qe.__version__"
     ],
     "language": "python",
     "metadata": {},
     "outputs": [
      {
       "metadata": {},
       "output_type": "pyout",
       "prompt_number": 8,
       "text": [
        "'0.1.6'"
       ]
      }
     ],
     "prompt_number": 8
    },
    {
     "cell_type": "heading",
     "level": 2,
     "metadata": {},
     "source": [
      "Exercise 3"
     ]
    },
    {
     "cell_type": "markdown",
     "metadata": {},
     "source": [
      "Consider the Markov chain given by the following stochastic matrix\n",
      "(where the actual values of non-zero probabilities are not important):"
     ]
    },
    {
     "cell_type": "code",
     "collapsed": false,
     "input": [
      "P = np.zeros((6, 6))\n",
      "P[0, 0] = 1\n",
      "P[1, 4] = 1\n",
      "P[2, [2, 3, 4]] = 1/3\n",
      "P[3, [0, 5]] = 1/2\n",
      "P[4, [1, 4]] = 1/2\n",
      "P[5, [0, 3]] = 1/2"
     ],
     "language": "python",
     "metadata": {},
     "outputs": [],
     "prompt_number": 9
    },
    {
     "cell_type": "code",
     "collapsed": false,
     "input": [
      "print P"
     ],
     "language": "python",
     "metadata": {},
     "outputs": [
      {
       "output_type": "stream",
       "stream": "stdout",
       "text": [
        "[[ 1.          0.          0.          0.          0.          0.        ]\n",
        " [ 0.          0.          0.          0.          1.          0.        ]\n",
        " [ 0.          0.          0.33333333  0.33333333  0.33333333  0.        ]\n",
        " [ 0.5         0.          0.          0.          0.          0.5       ]\n",
        " [ 0.          0.5         0.          0.          0.5         0.        ]\n",
        " [ 0.5         0.          0.          0.5         0.          0.        ]]\n"
       ]
      }
     ],
     "prompt_number": 10
    },
    {
     "cell_type": "markdown",
     "metadata": {},
     "source": [
      "Create a `MarkovChain` instance:"
     ]
    },
    {
     "cell_type": "code",
     "collapsed": false,
     "input": [
      "mc0 = qe.MarkovChain(P)"
     ],
     "language": "python",
     "metadata": {},
     "outputs": [],
     "prompt_number": 11
    },
    {
     "cell_type": "markdown",
     "metadata": {},
     "source": [
      "We call the states $0, \\ldots, 5$, respectively, instead of $1, \\ldots, 6$."
     ]
    },
    {
     "cell_type": "markdown",
     "metadata": {},
     "source": [
      "(a) Determine the communication classes."
     ]
    },
    {
     "cell_type": "code",
     "collapsed": false,
     "input": [
      "mc0.communication_classes"
     ],
     "language": "python",
     "metadata": {},
     "outputs": [
      {
       "metadata": {},
       "output_type": "pyout",
       "prompt_number": 12,
       "text": [
        "[array([0], dtype=int64),\n",
        " array([1, 4], dtype=int64),\n",
        " array([3, 5], dtype=int64),\n",
        " array([2], dtype=int64)]"
       ]
      }
     ],
     "prompt_number": 12
    },
    {
     "cell_type": "markdown",
     "metadata": {},
     "source": [
      "(b) Classify the states of this Markov chain."
     ]
    },
    {
     "cell_type": "code",
     "collapsed": false,
     "input": [
      "mc0.recurrent_classes"
     ],
     "language": "python",
     "metadata": {},
     "outputs": [
      {
       "metadata": {},
       "output_type": "pyout",
       "prompt_number": 13,
       "text": [
        "[array([0], dtype=int64), array([1, 4], dtype=int64)]"
       ]
      }
     ],
     "prompt_number": 13
    },
    {
     "cell_type": "markdown",
     "metadata": {},
     "source": [
      "Obtain a list of the recurrent states."
     ]
    },
    {
     "cell_type": "code",
     "collapsed": false,
     "input": [
      " # Write your own code \n"
     ],
     "language": "python",
     "metadata": {},
     "outputs": [],
     "prompt_number": 2
    },
    {
     "cell_type": "markdown",
     "metadata": {},
     "source": [
      "Obtain a list of the transient states."
     ]
    },
    {
     "cell_type": "code",
     "collapsed": false,
     "input": [
      " # Write your own code\n"
     ],
     "language": "python",
     "metadata": {},
     "outputs": [],
     "prompt_number": 1
    },
    {
     "cell_type": "markdown",
     "metadata": {},
     "source": [
      "(c) Does the chain have a unique stationary distribution?"
     ]
    },
    {
     "cell_type": "code",
     "collapsed": false,
     "input": [
      "mc0.num_recurrent_classes"
     ],
     "language": "python",
     "metadata": {},
     "outputs": [
      {
       "metadata": {},
       "output_type": "pyout",
       "prompt_number": 17,
       "text": [
        "2"
       ]
      }
     ],
     "prompt_number": 17
    },
    {
     "cell_type": "markdown",
     "metadata": {},
     "source": [
      "Obtain the stationary distributions:"
     ]
    },
    {
     "cell_type": "code",
     "collapsed": false,
     "input": [
      "vecs = mc0.stationary_distributions\n",
      "print vecs"
     ],
     "language": "python",
     "metadata": {},
     "outputs": [
      {
       "output_type": "stream",
       "stream": "stdout",
       "text": [
        "[[ 1.          0.          0.          0.          0.          0.        ]\n",
        " [ 0.          0.33333333  0.          0.          0.66666667  0.        ]]\n"
       ]
      }
     ],
     "prompt_number": 18
    },
    {
     "cell_type": "markdown",
     "metadata": {},
     "source": [
      "Verify that the above vectors are indeed stationary distributions."
     ]
    },
    {
     "cell_type": "markdown",
     "metadata": {},
     "source": [
      "Hint: Use [np.dot](http://docs.scipy.org/doc/numpy/reference/generated/numpy.dot.html)."
     ]
    },
    {
     "cell_type": "code",
     "collapsed": false,
     "input": [
      "A = np.dot(vecs,P) # Write your own code\n",
      "print A"
     ],
     "language": "python",
     "metadata": {},
     "outputs": [
      {
       "output_type": "stream",
       "stream": "stdout",
       "text": [
        "[[ 1.          0.          0.          0.          0.          0.        ]\n",
        " [ 0.          0.33333333  0.          0.          0.66666667  0.        ]]\n"
       ]
      }
     ],
     "prompt_number": 28
    },
    {
     "cell_type": "heading",
     "level": 3,
     "metadata": {},
     "source": [
      "Simulation"
     ]
    },
    {
     "cell_type": "markdown",
     "metadata": {},
     "source": [
      "Let us simulate our Markov chain `mc0`.\n",
      "The `simualte` method generates a sample path from an initial state as specified by the `init` argument,\n",
      "of length specified by `sample_size`, which is set to 1000 by default when omitted."
     ]
    },
    {
     "cell_type": "markdown",
     "metadata": {},
     "source": [
      "A sample path from state `0`:"
     ]
    },
    {
     "cell_type": "code",
     "collapsed": false,
     "input": [
      "mc0.simulate(init=0, sample_size=50)"
     ],
     "language": "python",
     "metadata": {},
     "outputs": [
      {
       "metadata": {},
       "output_type": "pyout",
       "prompt_number": 29,
       "text": [
        "array([0, 0, 0, 0, 0, 0, 0, 0, 0, 0, 0, 0, 0, 0, 0, 0, 0, 0, 0, 0, 0, 0, 0,\n",
        "       0, 0, 0, 0, 0, 0, 0, 0, 0, 0, 0, 0, 0, 0, 0, 0, 0, 0, 0, 0, 0, 0, 0,\n",
        "       0, 0, 0, 0])"
       ]
      }
     ],
     "prompt_number": 29
    },
    {
     "cell_type": "markdown",
     "metadata": {},
     "source": [
      "As is clear from the transition matrix `P`,\n",
      "if it starts at state `0`, the chain stays there forever,\n",
      "i.e., `0` is an absorbing state, a state that constitutes a singleton recurrent class."
     ]
    },
    {
     "cell_type": "markdown",
     "metadata": {},
     "source": [
      "Start with state `1`:"
     ]
    },
    {
     "cell_type": "code",
     "collapsed": false,
     "input": [
      "mc0.simulate(init=1, sample_size=50)"
     ],
     "language": "python",
     "metadata": {},
     "outputs": [
      {
       "metadata": {},
       "output_type": "pyout",
       "prompt_number": 30,
       "text": [
        "array([1, 4, 4, 1, 4, 4, 1, 4, 4, 1, 4, 1, 4, 4, 4, 4, 1, 4, 1, 4, 4, 1, 4,\n",
        "       1, 4, 1, 4, 4, 4, 4, 4, 1, 4, 1, 4, 4, 1, 4, 4, 1, 4, 4, 4, 4, 4, 1,\n",
        "       4, 1, 4, 4])"
       ]
      }
     ],
     "prompt_number": 30
    },
    {
     "cell_type": "markdown",
     "metadata": {},
     "source": [
      "You can observe that the chain stays in the recurrent class $\\{1, 4\\}$ and\n",
      "visits states `1` and `4` with certain frequencies."
     ]
    },
    {
     "cell_type": "markdown",
     "metadata": {},
     "source": [
      "Let us compute the frequency distribution along a sample path.\n",
      "We will repeat this operation, so let us write a function for it."
     ]
    },
    {
     "cell_type": "code",
     "collapsed": false,
     "input": [
      "def time_series_dist(mc, init, ts_length=100):\n",
      "    \"\"\"\n",
      "    Return a distribution of visits by a sample path of length ts_length\n",
      "    of mc with an initial state init.\n",
      "    \n",
      "    \"\"\"\n",
      "    X = mc.simulate(init=init, sample_size=ts_length)\n",
      "    bins = np.arange(mc.n+1)\n",
      "    hist, bin_edges = np.histogram(X, bins=bins)\n",
      "    dist = hist/len(X)\n",
      "    return dist"
     ],
     "language": "python",
     "metadata": {},
     "outputs": [],
     "prompt_number": 31
    },
    {
     "cell_type": "markdown",
     "metadata": {},
     "source": [
      "Here is a frequency distribution along a sample path from initial state `1`:"
     ]
    },
    {
     "cell_type": "code",
     "collapsed": false,
     "input": [
      "time_series_dist(mc0, init=1)"
     ],
     "language": "python",
     "metadata": {},
     "outputs": [
      {
       "metadata": {},
       "output_type": "pyout",
       "prompt_number": 32,
       "text": [
        "array([ 0.  ,  0.31,  0.  ,  0.  ,  0.69,  0.  ])"
       ]
      }
     ],
     "prompt_number": 32
    },
    {
     "cell_type": "markdown",
     "metadata": {},
     "source": [
      "Let us visualize the distribution."
     ]
    },
    {
     "cell_type": "code",
     "collapsed": false,
     "input": [
      "def draw_histogram(distribution,\n",
      "                   ax=None, title=None, xlabel=None, ylabel=None, ylim=(0, 1)):\n",
      "    \"\"\"\n",
      "    Plot the given distribution.\n",
      "    \n",
      "    \"\"\"\n",
      "    if ax is None:\n",
      "        fig, ax = plt.subplots()\n",
      "    n = len(distribution)\n",
      "    ax.bar(np.arange(n), distribution, align='center')\n",
      "    ax.set_xlim(-0.5, (n-1)+0.5)\n",
      "    ax.set_ylim(*ylim)\n",
      "    if title:\n",
      "        ax.set_title(title)\n",
      "    if xlabel:\n",
      "        ax.set_xlabel(xlabel)\n",
      "    if ylabel:\n",
      "        ax.set_ylabel(ylabel)\n",
      "    if ax is None:\n",
      "        plt.show()"
     ],
     "language": "python",
     "metadata": {},
     "outputs": [],
     "prompt_number": 33
    },
    {
     "cell_type": "code",
     "collapsed": false,
     "input": [
      "%matplotlib inline\n",
      "import matplotlib.pyplot as plt"
     ],
     "language": "python",
     "metadata": {},
     "outputs": [],
     "prompt_number": 34
    },
    {
     "cell_type": "code",
     "collapsed": false,
     "input": [
      "init = 1\n",
      "draw_histogram(time_series_dist(mc0, init=init),\n",
      "               title='Time series distribution with init={0}'.format(init),\n",
      "               xlabel='States')\n",
      "plt.show()"
     ],
     "language": "python",
     "metadata": {},
     "outputs": [
      {
       "metadata": {},
       "output_type": "display_data",
       "png": "[encoded data removed]",
       "text": [
        "<matplotlib.figure.Figure at 0x16db7898>"
       ]
      }
     ],
     "prompt_number": 35
    },
    {
     "cell_type": "markdown",
     "metadata": {},
     "source": [
      "Observe that the distribution is close to the stationary distribution\n",
      "`[0, 1/3, 0, 0, 2/3, 0]`."
     ]
    },
    {
     "cell_type": "markdown",
     "metadata": {},
     "source": [
      "Start with state `2`:"
     ]
    },
    {
     "cell_type": "code",
     "collapsed": false,
     "input": [
      "init = 2\n",
      "draw_histogram(time_series_dist(mc0, init=init),\n",
      "               title='Time series distribution with init={0}'.format(init),\n",
      "               xlabel='States')\n",
      "plt.show()"
     ],
     "language": "python",
     "metadata": {},
     "outputs": [
      {
       "metadata": {},
       "output_type": "display_data",
       "png": "[encoded data removed]",
       "text": [
        "<matplotlib.figure.Figure at 0x16f9f2e8>"
       ]
      }
     ],
     "prompt_number": 36
    },
    {
     "cell_type": "markdown",
     "metadata": {},
     "source": [
      "Run the above (or below) cell several times;\n",
      "you will observe that the distribution differs across sample paths.\n",
      "Sometimes the state is absorbed into the recurrent class $\\{0\\}$,\n",
      "while other times it is absorbed into the recurrent class $\\{1, 4\\}$."
     ]
    },
    {
     "cell_type": "code",
     "collapsed": false,
     "input": [
      "init = 2\n",
      "\n",
      "fig, axes = plt.subplots(1, 2, figsize=(8, 3))\n",
      "titles = ['Some sample path', 'Another sample path']\n",
      "titles = [title + ' init={0}'.format(init) for title in titles]\n",
      "\n",
      "for ax, title in zip(axes, titles):\n",
      "    draw_histogram(time_series_dist(mc0, init=init), ax=ax, title=title, xlabel='States')\n",
      "\n",
      "fig.suptitle('Time series distributions', y=-0.05, fontsize=12)\n",
      "plt.show()"
     ],
     "language": "python",
     "metadata": {},
     "outputs": [
      {
       "metadata": {},
       "output_type": "display_data",
       "png": "[encoded data removed]",
       "text": [
        "<matplotlib.figure.Figure at 0x17226e10>"
       ]
      }
     ],
     "prompt_number": 37
    },
    {
     "cell_type": "markdown",
     "metadata": {},
     "source": [
      "Let us repeat the simulation for many times (say, 100 times)\n",
      "and obtain the distribution of visits to each states\n",
      "at a given time period `T`.\n",
      "That is, we want to simulate the marginal distribution at time `T`."
     ]
    },
    {
     "cell_type": "code",
     "collapsed": false,
     "input": [
      "def cross_sectional_dist(mc, init, T, num_reps=100):\n",
      "    \"\"\"\n",
      "    Return a distribution of visits at time T across num_reps sample paths\n",
      "    of mc with an initial state init.\n",
      "    \n",
      "    \"\"\"\n",
      "    x = np.empty(num_reps, dtype=int)\n",
      "    for i in range(num_reps):\n",
      "        x[i] = mc.simulate(init=init, sample_size=T+1)[-1]\n",
      "    bins = np.arange(mc.n+1)\n",
      "    hist, bin_edges = np.histogram(x, bins=bins)\n",
      "    dist = hist/len(x)\n",
      "    return dist"
     ],
     "language": "python",
     "metadata": {},
     "outputs": [],
     "prompt_number": 38
    },
    {
     "cell_type": "code",
     "collapsed": false,
     "input": [
      "init = 2\n",
      "T = 100\n",
      "draw_histogram(cross_sectional_dist(mc0, init=init, T=T),\n",
      "               title='Empirical marginal distribution ' + \\\n",
      "                     'at T={0} with init={1}'.format(T, init))\n",
      "plt.show()"
     ],
     "language": "python",
     "metadata": {},
     "outputs": [
      {
       "metadata": {},
       "output_type": "display_data",
       "png": "[encoded data removed]",
       "text": [
        "<matplotlib.figure.Figure at 0x16f597f0>"
       ]
      }
     ],
     "prompt_number": 39
    },
    {
     "cell_type": "markdown",
     "metadata": {},
     "source": [
      "Observe that the distribution is close to a convex combination of\n",
      "the stationary distributions `[1, 0, 0, 0, 0, 0]` and `[0, 1/3, 0, 0, 2/3, 0]`."
     ]
    },
    {
     "cell_type": "markdown",
     "metadata": {},
     "source": [
      "Let us simulate with the remaining states, 3, 4, and 5."
     ]
    },
    {
     "cell_type": "code",
     "collapsed": false,
     "input": [
      "inits = [3, 4, 5]\n",
      "\n",
      "fig, axes = plt.subplots(1, 3, figsize=(12, 3))\n",
      "\n",
      "for init, ax in zip(inits, axes):\n",
      "    draw_histogram(time_series_dist(mc0, init=init), ax=ax,\n",
      "                   title='Initial state = {0}'.format(init),\n",
      "                   xlabel='States')\n",
      "\n",
      "fig.suptitle('Time series distributions', y=-0.05, fontsize=12)\n",
      "plt.show()"
     ],
     "language": "python",
     "metadata": {},
     "outputs": [
      {
       "metadata": {},
       "output_type": "display_data",
       "png": "[encoded data removed]",
       "text": [
        "<matplotlib.figure.Figure at 0x17023b38>"
       ]
      }
     ],
     "prompt_number": 40
    },
    {
     "cell_type": "markdown",
     "metadata": {},
     "source": [
      "Plot empirical marginal distributions at T=100 with initial states 3, 4, and 5."
     ]
    },
    {
     "cell_type": "code",
     "collapsed": false,
     "input": [
      "def cross_sectional_dist(mc, init, T, num_reps=100):\n",
      "    \"\"\"\n",
      "    Return a distribution of visits at time T across num_reps sample paths\n",
      "    of mc with an initial state init.\n",
      "    \n",
      "    \"\"\"\n",
      "    x = np.empty(num_reps, dtype=int)\n",
      "    for i in range(num_reps):\n",
      "        x[i] = mc.simulate(init=init, sample_size=T+1)[-1]\n",
      "    bins = np.arange(mc.n+1)\n",
      "    hist, bin_edges = np.histogram(x, bins=bins)\n",
      "    dist = hist/len(x)\n",
      "    return dist\n",
      "\n",
      "init = 3                                                     # marginal distribution when an initial state is 3\n",
      "T = 100\n",
      "draw_histogram(cross_sectional_dist(mc0, init=init, T=T),\n",
      "               title='Empirical marginal distribution ' + \\\n",
      "                     'at T={0} with init={1}'.format(T, init))\n",
      "plt.show()\n",
      "\n",
      "init = 4                                                     # marginal distribution when an initial state is 4\n",
      "T = 100\n",
      "draw_histogram(cross_sectional_dist(mc0, init=init, T=T),\n",
      "               title='Empirical marginal distribution ' + \\\n",
      "                     'at T={0} with init={1}'.format(T, init))\n",
      "plt.show()\n",
      "\n",
      "init = 5                                                     # marginal distribution when an initial state is 5\n",
      "T = 100\n",
      "draw_histogram(cross_sectional_dist(mc0, init=init, T=T),\n",
      "               title='Empirical marginal distribution ' + \\\n",
      "                     'at T={0} with init={1}'.format(T, init))\n",
      "plt.show()\n",
      "# Write your own code\n"
     ],
     "language": "python",
     "metadata": {},
     "outputs": [
      {
       "metadata": {},
       "output_type": "display_data",
       "png": "[encoded data removed]",
       "text": [
        "<matplotlib.figure.Figure at 0x16f944a8>"
       ]
      },
      {
       "metadata": {},
       "output_type": "display_data",
       "png": "[encoded data removed]",
       "text": [
        "<matplotlib.figure.Figure at 0x17256ac8>"
       ]
      },
      {
       "metadata": {},
       "output_type": "display_data",
       "png": "[encoded data removed]",
       "text": [
        "<matplotlib.figure.Figure at 0x18378518>"
       ]
      }
     ],
     "prompt_number": 44
    },
    {
     "cell_type": "heading",
     "level": 3,
     "metadata": {},
     "source": [
      "Powers of $P$"
     ]
    },
    {
     "cell_type": "markdown",
     "metadata": {},
     "source": [
      "The marginal distrubtions at time $T$ are obtained by $P^T$."
     ]
    },
    {
     "cell_type": "code",
     "collapsed": false,
     "input": [
      "np.set_printoptions(suppress=True)  # Suppress printing with floating point notation\n",
      "\n",
      "T = 10\n",
      "print 'P^{0} ='.format(T)\n",
      "print np.linalg.matrix_power(mc0.P, T)"
     ],
     "language": "python",
     "metadata": {},
     "outputs": [
      {
       "output_type": "stream",
       "stream": "stdout",
       "text": [
        "P^10 =\n",
        "[[ 1.          0.          0.          0.          0.          0.        ]\n",
        " [ 0.          0.33398438  0.          0.          0.66601562  0.        ]\n",
        " [ 0.49807228  0.16679179  0.00001694  0.0007677   0.33319974  0.00115155]\n",
        " [ 0.99902344  0.          0.          0.00097656  0.          0.        ]\n",
        " [ 0.          0.33300781  0.          0.          0.66699219  0.        ]\n",
        " [ 0.99902344  0.          0.          0.          0.          0.00097656]]\n"
       ]
      }
     ],
     "prompt_number": 45
    },
    {
     "cell_type": "code",
     "collapsed": false,
     "input": [
      "T = 100\n",
      "print 'P^{0} ='.format(T)\n",
      "print np.linalg.matrix_power(mc0.P, T)"
     ],
     "language": "python",
     "metadata": {},
     "outputs": [
      {
       "output_type": "stream",
       "stream": "stdout",
       "text": [
        "P^100 =\n",
        "[[ 1.          0.          0.          0.          0.          0.        ]\n",
        " [ 0.          0.33333333  0.          0.          0.66666667  0.        ]\n",
        " [ 0.5         0.16666667  0.          0.          0.33333333  0.        ]\n",
        " [ 1.          0.          0.          0.          0.          0.        ]\n",
        " [ 0.          0.33333333  0.          0.          0.66666667  0.        ]\n",
        " [ 1.          0.          0.          0.          0.          0.        ]]\n"
       ]
      }
     ],
     "prompt_number": 46
    },
    {
     "cell_type": "markdown",
     "metadata": {},
     "source": [
      "Compare the rows with the stationary distributions obtained by `mc0.stationary_distributions`."
     ]
    },
    {
     "cell_type": "markdown",
     "metadata": {},
     "source": [
      "Note that `mc0` is aperiodic\n",
      "(i.e., the least common multiple of the periods of the recurrent class is one),\n",
      "so that $P^T$ converges as $T \\to \\infty$."
     ]
    },
    {
     "cell_type": "code",
     "collapsed": false,
     "input": [
      "mc0.period"
     ],
     "language": "python",
     "metadata": {},
     "outputs": [
      {
       "metadata": {},
       "output_type": "pyout",
       "prompt_number": 47,
       "text": [
        "1"
       ]
      }
     ],
     "prompt_number": 47
    },
    {
     "cell_type": "heading",
     "level": 2,
     "metadata": {},
     "source": [
      "Exercises 9"
     ]
    },
    {
     "cell_type": "markdown",
     "metadata": {},
     "source": [
      "Consider the Markov chain given by the following stochastic matrix\n",
      "(where the actual values of non-zero probabilities are not important):"
     ]
    },
    {
     "cell_type": "code",
     "collapsed": false,
     "input": [
      "P = np.zeros((10, 10))\n",
      "P[0, 3] = 1\n",
      "P[1, [0, 4]] = 1/2\n",
      "P[2, 6] = 1\n",
      "P[3, [1, 2, 7]] = 1/3\n",
      "P[4, 3] = 1\n",
      "P[5, 4] = 1\n",
      "P[6, 3] = 1\n",
      "P[7, [6, 8]] = 1/2\n",
      "P[8, 9] = 1\n",
      "P[9, 5] = 1"
     ],
     "language": "python",
     "metadata": {},
     "outputs": [],
     "prompt_number": 48
    },
    {
     "cell_type": "code",
     "collapsed": false,
     "input": [
      "np.set_printoptions(precision=3)  # Reduce the number of digits printed\n",
      "print P"
     ],
     "language": "python",
     "metadata": {},
     "outputs": [
      {
       "output_type": "stream",
       "stream": "stdout",
       "text": [
        "[[ 0.     0.     0.     1.     0.     0.     0.     0.     0.     0.   ]\n",
        " [ 0.5    0.     0.     0.     0.5    0.     0.     0.     0.     0.   ]\n",
        " [ 0.     0.     0.     0.     0.     0.     1.     0.     0.     0.   ]\n",
        " [ 0.     0.333  0.333  0.     0.     0.     0.     0.333  0.     0.   ]\n",
        " [ 0.     0.     0.     1.     0.     0.     0.     0.     0.     0.   ]\n",
        " [ 0.     0.     0.     0.     1.     0.     0.     0.     0.     0.   ]\n",
        " [ 0.     0.     0.     1.     0.     0.     0.     0.     0.     0.   ]\n",
        " [ 0.     0.     0.     0.     0.     0.     0.5    0.     0.5    0.   ]\n",
        " [ 0.     0.     0.     0.     0.     0.     0.     0.     0.     1.   ]\n",
        " [ 0.     0.     0.     0.     0.     1.     0.     0.     0.     0.   ]]\n"
       ]
      }
     ],
     "prompt_number": 49
    },
    {
     "cell_type": "code",
     "collapsed": false,
     "input": [
      "mc1 = qe.MarkovChain(P)"
     ],
     "language": "python",
     "metadata": {},
     "outputs": [],
     "prompt_number": 50
    },
    {
     "cell_type": "markdown",
     "metadata": {},
     "source": [
      "We call the states $0, \\ldots, 9$, respectively, instead of $1, \\ldots, 10$."
     ]
    },
    {
     "cell_type": "markdown",
     "metadata": {},
     "source": [
      "(a) Check that this Markov chain is irreducible."
     ]
    },
    {
     "cell_type": "code",
     "collapsed": false,
     "input": [
      "mc1.is_irreducible"
     ],
     "language": "python",
     "metadata": {},
     "outputs": [
      {
       "metadata": {},
       "output_type": "pyout",
       "prompt_number": 51,
       "text": [
        "True"
       ]
      }
     ],
     "prompt_number": 51
    },
    {
     "cell_type": "markdown",
     "metadata": {},
     "source": [
      "(c) Determine the period of this Markov chain."
     ]
    },
    {
     "cell_type": "code",
     "collapsed": false,
     "input": [
      "mc1.period"
     ],
     "language": "python",
     "metadata": {},
     "outputs": [
      {
       "metadata": {},
       "output_type": "pyout",
       "prompt_number": 52,
       "text": [
        "3"
       ]
      }
     ],
     "prompt_number": 52
    },
    {
     "cell_type": "markdown",
     "metadata": {},
     "source": [
      "(d) Identify the cyclic classes."
     ]
    },
    {
     "cell_type": "code",
     "collapsed": false,
     "input": [
      "mc1.cyclic_classes"
     ],
     "language": "python",
     "metadata": {},
     "outputs": [
      {
       "metadata": {},
       "output_type": "pyout",
       "prompt_number": 53,
       "text": [
        "[array([0, 4, 6, 8], dtype=int64),\n",
        " array([3, 9], dtype=int64),\n",
        " array([1, 2, 5, 7], dtype=int64)]"
       ]
      }
     ],
     "prompt_number": 53
    },
    {
     "cell_type": "heading",
     "level": 2,
     "metadata": {},
     "source": [
      "Exercise 11"
     ]
    },
    {
     "cell_type": "markdown",
     "metadata": {},
     "source": [
      "Let us discuss this exercise using the Markov chain from Exercise 9."
     ]
    },
    {
     "cell_type": "code",
     "collapsed": false,
     "input": [
      "print mc1.P"
     ],
     "language": "python",
     "metadata": {},
     "outputs": [
      {
       "output_type": "stream",
       "stream": "stdout",
       "text": [
        "[[ 0.     0.     0.     1.     0.     0.     0.     0.     0.     0.   ]\n",
        " [ 0.5    0.     0.     0.     0.5    0.     0.     0.     0.     0.   ]\n",
        " [ 0.     0.     0.     0.     0.     0.     1.     0.     0.     0.   ]\n",
        " [ 0.     0.333  0.333  0.     0.     0.     0.     0.333  0.     0.   ]\n",
        " [ 0.     0.     0.     1.     0.     0.     0.     0.     0.     0.   ]\n",
        " [ 0.     0.     0.     0.     1.     0.     0.     0.     0.     0.   ]\n",
        " [ 0.     0.     0.     1.     0.     0.     0.     0.     0.     0.   ]\n",
        " [ 0.     0.     0.     0.     0.     0.     0.5    0.     0.5    0.   ]\n",
        " [ 0.     0.     0.     0.     0.     0.     0.     0.     0.     1.   ]\n",
        " [ 0.     0.     0.     0.     0.     1.     0.     0.     0.     0.   ]]\n"
       ]
      }
     ],
     "prompt_number": 54
    },
    {
     "cell_type": "markdown",
     "metadata": {},
     "source": [
      "Denote the period of $P$ by $d$:"
     ]
    },
    {
     "cell_type": "code",
     "collapsed": false,
     "input": [
      "d = mc1.period"
     ],
     "language": "python",
     "metadata": {},
     "outputs": [],
     "prompt_number": 55
    },
    {
     "cell_type": "markdown",
     "metadata": {},
     "source": [
      "Reorder the states so that the transition matrix is in block form:"
     ]
    },
    {
     "cell_type": "code",
     "collapsed": false,
     "input": [
      "permutation = np.concatenate(mc1.cyclic_classes)"
     ],
     "language": "python",
     "metadata": {},
     "outputs": [],
     "prompt_number": 56
    },
    {
     "cell_type": "code",
     "collapsed": false,
     "input": [
      "P = mc1.P[permutation, :][:, permutation]\n",
      "print P"
     ],
     "language": "python",
     "metadata": {},
     "outputs": [
      {
       "output_type": "stream",
       "stream": "stdout",
       "text": [
        "[[ 0.     0.     0.     0.     1.     0.     0.     0.     0.     0.   ]\n",
        " [ 0.     0.     0.     0.     1.     0.     0.     0.     0.     0.   ]\n",
        " [ 0.     0.     0.     0.     1.     0.     0.     0.     0.     0.   ]\n",
        " [ 0.     0.     0.     0.     0.     1.     0.     0.     0.     0.   ]\n",
        " [ 0.     0.     0.     0.     0.     0.     0.333  0.333  0.     0.333]\n",
        " [ 0.     0.     0.     0.     0.     0.     0.     0.     1.     0.   ]\n",
        " [ 0.5    0.5    0.     0.     0.     0.     0.     0.     0.     0.   ]\n",
        " [ 0.     0.     1.     0.     0.     0.     0.     0.     0.     0.   ]\n",
        " [ 0.     1.     0.     0.     0.     0.     0.     0.     0.     0.   ]\n",
        " [ 0.     0.     0.5    0.5    0.     0.     0.     0.     0.     0.   ]]\n"
       ]
      }
     ],
     "prompt_number": 57
    },
    {
     "cell_type": "markdown",
     "metadata": {},
     "source": [
      "Let us create a new MarkovChain instance:"
     ]
    },
    {
     "cell_type": "code",
     "collapsed": false,
     "input": [
      "mc2 = qe.MarkovChain(P)"
     ],
     "language": "python",
     "metadata": {},
     "outputs": [],
     "prompt_number": 58
    },
    {
     "cell_type": "markdown",
     "metadata": {},
     "source": [
      "Obtain the block components $P_0, \\ldots, P_d$:"
     ]
    },
    {
     "cell_type": "code",
     "collapsed": false,
     "input": [
      "P_blocks = []\n",
      "\n",
      "for i in range(d):\n",
      "    P_blocks.append(mc2.P[mc2.cyclic_classes[i%d], :][:, mc2.cyclic_classes[(i+1)%d]])\n",
      "    print 'P_{0} ='.format(i)\n",
      "    print P_blocks[i]"
     ],
     "language": "python",
     "metadata": {},
     "outputs": [
      {
       "output_type": "stream",
       "stream": "stdout",
       "text": [
        "P_0 =\n",
        "[[ 1.  0.]\n",
        " [ 1.  0.]\n",
        " [ 1.  0.]\n",
        " [ 0.  1.]]\n",
        "P_1 =\n",
        "[[ 0.333  0.333  0.     0.333]\n",
        " [ 0.     0.     1.     0.   ]]\n",
        "P_2 =\n",
        "[[ 0.5  0.5  0.   0. ]\n",
        " [ 0.   0.   1.   0. ]\n",
        " [ 0.   1.   0.   0. ]\n",
        " [ 0.   0.   0.5  0.5]]\n"
       ]
      }
     ],
     "prompt_number": 59
    },
    {
     "cell_type": "markdown",
     "metadata": {},
     "source": [
      "(b) Show that $P^d$ is block diagonal."
     ]
    },
    {
     "cell_type": "markdown",
     "metadata": {},
     "source": [
      "Hint: You may use [np.linalg.matrix_power](http://docs.scipy.org/doc/numpy/reference/generated/numpy.linalg.matrix_power.html)."
     ]
    },
    {
     "cell_type": "code",
     "collapsed": false,
     "input": [
      "np.set_printoptions(precision=1)\n",
      "d = mc2.period\n",
      "print d\n",
      "from numpy import linalg as LA\n",
      "LA.matrix_power(mc2.P, 3) \n",
      "# Write your own code"
     ],
     "language": "python",
     "metadata": {},
     "outputs": [
      {
       "output_type": "stream",
       "stream": "stdout",
       "text": [
        "3\n"
       ]
      },
      {
       "metadata": {},
       "output_type": "pyout",
       "prompt_number": 68,
       "text": [
        "array([[ 0.2,  0.2,  0.5,  0.2,  0. ,  0. ,  0. ,  0. ,  0. ,  0. ],\n",
        "       [ 0.2,  0.2,  0.5,  0.2,  0. ,  0. ,  0. ,  0. ,  0. ,  0. ],\n",
        "       [ 0.2,  0.2,  0.5,  0.2,  0. ,  0. ,  0. ,  0. ,  0. ,  0. ],\n",
        "       [ 0. ,  1. ,  0. ,  0. ,  0. ,  0. ,  0. ,  0. ,  0. ,  0. ],\n",
        "       [ 0. ,  0. ,  0. ,  0. ,  0.8,  0.2,  0. ,  0. ,  0. ,  0. ],\n",
        "       [ 0. ,  0. ,  0. ,  0. ,  1. ,  0. ,  0. ,  0. ,  0. ,  0. ],\n",
        "       [ 0. ,  0. ,  0. ,  0. ,  0. ,  0. ,  0.3,  0.3,  0. ,  0.3],\n",
        "       [ 0. ,  0. ,  0. ,  0. ,  0. ,  0. ,  0.3,  0.3,  0. ,  0.3],\n",
        "       [ 0. ,  0. ,  0. ,  0. ,  0. ,  0. ,  0.3,  0.3,  0. ,  0.3],\n",
        "       [ 0. ,  0. ,  0. ,  0. ,  0. ,  0. ,  0.2,  0.2,  0.5,  0.2]])"
       ]
      }
     ],
     "prompt_number": 68
    },
    {
     "cell_type": "markdown",
     "metadata": {},
     "source": [
      "(c) Verify that the $i$th diagonal block of $P^d$ equals\n",
      "$P_i P_{i+1} \\ldots P_{d-1} P_0 \\ldots P_{i-1}$.\n",
      "\n",
      "Store these diagonal blocks in a list called `P_power_d_blocks`."
     ]
    },
    {
     "cell_type": "code",
     "collapsed": false,
     "input": [
      "# Write your own code\n",
      "P_power_d_blocks = []"
     ],
     "language": "python",
     "metadata": {},
     "outputs": []
    },
    {
     "cell_type": "markdown",
     "metadata": {},
     "source": [
      "(d) Obtain the stationary distributions each associated with the diagonal blocks of $P^d$.\n",
      "\n",
      "Store them in a list called `pi_s`."
     ]
    },
    {
     "cell_type": "code",
     "collapsed": false,
     "input": [
      "# Write your own code\n",
      "pi_s = []\n"
     ],
     "language": "python",
     "metadata": {},
     "outputs": []
    },
    {
     "cell_type": "markdown",
     "metadata": {},
     "source": [
      "Verify that $\\pi^{i+1} = \\pi^i P_i$."
     ]
    },
    {
     "cell_type": "code",
     "collapsed": false,
     "input": [
      "# Write your own code\n"
     ],
     "language": "python",
     "metadata": {},
     "outputs": []
    },
    {
     "cell_type": "markdown",
     "metadata": {},
     "source": [
      "Obtain the unique stationary distribution $\\pi$ of the original Markov chain."
     ]
    },
    {
     "cell_type": "code",
     "collapsed": false,
     "input": [
      "print mc2.stationary_distributions[0]"
     ],
     "language": "python",
     "metadata": {},
     "outputs": []
    },
    {
     "cell_type": "markdown",
     "metadata": {},
     "source": [
      "Verify that $\\pi = (\\pi^0, \\ldots, \\pi^d) / d$."
     ]
    },
    {
     "cell_type": "code",
     "collapsed": false,
     "input": [
      "# Write your own code\n"
     ],
     "language": "python",
     "metadata": {},
     "outputs": []
    },
    {
     "cell_type": "markdown",
     "metadata": {},
     "source": [
      "(e)"
     ]
    },
    {
     "cell_type": "code",
     "collapsed": false,
     "input": [
      "# Write your answer in a Markdown mode, with providing code if necessary.\n",
      "\n",
      "\n"
     ],
     "language": "python",
     "metadata": {},
     "outputs": []
    },
    {
     "cell_type": "heading",
     "level": 3,
     "metadata": {},
     "source": [
      "Powers of $P$"
     ]
    },
    {
     "cell_type": "markdown",
     "metadata": {},
     "source": [
      "Print $P^1, P^2, \\ldots, P^d$."
     ]
    },
    {
     "cell_type": "code",
     "collapsed": false,
     "input": [
      "# Write your own code\n"
     ],
     "language": "python",
     "metadata": {},
     "outputs": []
    },
    {
     "cell_type": "markdown",
     "metadata": {},
     "source": [
      "Print $P^{2d}$, $P^{4d}$, and $P^{6d}$."
     ]
    },
    {
     "cell_type": "code",
     "collapsed": false,
     "input": [
      "# Write your own code\n"
     ],
     "language": "python",
     "metadata": {},
     "outputs": []
    },
    {
     "cell_type": "markdown",
     "metadata": {},
     "source": [
      "Print $P^{10d + 1}, \\ldots, P^{10d + d}$."
     ]
    },
    {
     "cell_type": "code",
     "collapsed": false,
     "input": [
      "# Write your own code\n"
     ],
     "language": "python",
     "metadata": {},
     "outputs": []
    },
    {
     "cell_type": "heading",
     "level": 3,
     "metadata": {},
     "source": [
      "Simulation"
     ]
    },
    {
     "cell_type": "markdown",
     "metadata": {},
     "source": [
      "Let us simulate the Markov chain `mc2`."
     ]
    },
    {
     "cell_type": "markdown",
     "metadata": {},
     "source": [
      "Plot the frequency distribution of visits to the states along a sample path starting at state 0:"
     ]
    },
    {
     "cell_type": "code",
     "collapsed": false,
     "input": [
      "init = 0\n",
      "draw_histogram(time_series_dist(mc2, init=init),\n",
      "               title='Time series distribution with init={0}'.format(init),\n",
      "               xlabel='States', ylim=(0, 0.35))\n",
      "plt.show()"
     ],
     "language": "python",
     "metadata": {},
     "outputs": []
    },
    {
     "cell_type": "markdown",
     "metadata": {},
     "source": [
      "Observe that the distribution is close to the (unique) stationary distribution."
     ]
    },
    {
     "cell_type": "markdown",
     "metadata": {},
     "source": [
      "Next, plot the simulated marginal distributions\n",
      "at $T = 10d + 1, \\ldots, 11d, 11d + 1, \\ldots, 12d$ with initial state 0:"
     ]
    },
    {
     "cell_type": "code",
     "collapsed": false,
     "input": [
      "init = 0\n",
      "T = 10 * d + 1\n",
      "\n",
      "fig, axes = plt.subplots(2, d, figsize=(12, 6))\n",
      "\n",
      "for t, ax in enumerate(axes.flatten()):\n",
      "    draw_histogram(cross_sectional_dist(mc2, init=init, T=T+t), ax=ax,\n",
      "                   title='T = {0}'.format(T+t))\n",
      "\n",
      "fig.suptitle('Empirical marginal distributions with init={0}'.format(init), y=0.05, fontsize=12)\n",
      "plt.show()"
     ],
     "language": "python",
     "metadata": {},
     "outputs": []
    },
    {
     "cell_type": "markdown",
     "metadata": {},
     "source": [
      "Compare the rows of $P^{10d + 1}, \\ldots, P^{10d + d}$."
     ]
    },
    {
     "cell_type": "code",
     "collapsed": false,
     "input": [],
     "language": "python",
     "metadata": {},
     "outputs": []
    }
   ],
   "metadata": {}
  }
 ]
}